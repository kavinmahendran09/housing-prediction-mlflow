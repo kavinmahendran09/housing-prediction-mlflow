{
 "cells": [
  {
   "cell_type": "code",
   "execution_count": 1,
   "metadata": {},
   "outputs": [],
   "source": [
    "import mlflow\n",
    "import mlflow.sklearn\n",
    "import pandas as pd\n",
    "from sklearn.model_selection import train_test_split\n",
    "from sklearn.linear_model import LinearRegression\n",
    "from sklearn.ensemble import RandomForestRegressor\n",
    "from sklearn.svm import SVR\n",
    "from sklearn.metrics import mean_squared_error, r2_score\n",
    "from sklearn.preprocessing import LabelEncoder"
   ]
  },
  {
   "cell_type": "code",
   "execution_count": 2,
   "metadata": {},
   "outputs": [],
   "source": [
    "df = pd.read_csv('housing.csv')\n",
    "df = df.dropna()\n",
    "\n",
    "# Encode the categorical 'ocean_proximity' column\n",
    "label_encoder = LabelEncoder()\n",
    "df['ocean_proximity'] = label_encoder.fit_transform(df['ocean_proximity'])"
   ]
  },
  {
   "cell_type": "code",
   "execution_count": 3,
   "metadata": {},
   "outputs": [],
   "source": [
    "X = df.drop('median_house_value', axis=1)  # Drop target column to get features\n",
    "y = df['median_house_value']  # Target column\n",
    "\n",
    "X_train, X_test, y_train, y_test = train_test_split(X, y, test_size=0.2, random_state=42)"
   ]
  },
  {
   "cell_type": "code",
   "execution_count": 4,
   "metadata": {},
   "outputs": [],
   "source": [
    "models = {\n",
    "    \"LinearRegression\": LinearRegression(),\n",
    "    \"RandomForest\": RandomForestRegressor(n_estimators=100, random_state=42),\n",
    "    \"SVR\": SVR(kernel=\"linear\")\n",
    "}"
   ]
  },
  {
   "cell_type": "code",
   "execution_count": 5,
   "metadata": {},
   "outputs": [
    {
     "name": "stdout",
     "output_type": "stream",
     "text": [
      "LinearRegression Mean Squared Error: 4924108937.9120\n",
      "LinearRegression R-squared: 0.6399\n",
      "RandomForest Mean Squared Error: 2449175194.7867\n",
      "RandomForest R-squared: 0.8209\n",
      "SVR Mean Squared Error: 9008898130.6787\n",
      "SVR R-squared: 0.3412\n"
     ]
    }
   ],
   "source": [
    "for model_name, model in models.items():\n",
    "    model.fit(X_train, y_train)\n",
    "    y_pred = model.predict(X_test)\n",
    "    \n",
    "    mse = mean_squared_error(y_test, y_pred)\n",
    "    r2 = r2_score(y_test, y_pred)\n",
    "    \n",
    "    print(f\"{model_name} Mean Squared Error: {mse:.4f}\")\n",
    "    print(f\"{model_name} R-squared: {r2:.4f}\")"
   ]
  },
  {
   "cell_type": "code",
   "execution_count": 8,
   "metadata": {},
   "outputs": [
    {
     "name": "stderr",
     "output_type": "stream",
     "text": [
      "2025/01/02 01:35:09 INFO mlflow.tracking.fluent: Experiment with name 'Housing_Price_Predictions' does not exist. Creating a new experiment.\n",
      "\u001b[31m2025/01/02 01:35:11 WARNING mlflow.models.model: Model logged without a signature and input example. Please set `input_example` parameter when logging the model to auto infer the model signature.\u001b[0m\n"
     ]
    },
    {
     "name": "stdout",
     "output_type": "stream",
     "text": [
      "🏃 View run LinearRegression at: http://127.0.0.1:5000/#/experiments/594681456156421096/runs/d83de5b22ad5413c9cc8539ba918ee0e\n",
      "🧪 View experiment at: http://127.0.0.1:5000/#/experiments/594681456156421096\n"
     ]
    },
    {
     "name": "stderr",
     "output_type": "stream",
     "text": [
      "\u001b[31m2025/01/02 01:35:17 WARNING mlflow.models.model: Model logged without a signature and input example. Please set `input_example` parameter when logging the model to auto infer the model signature.\u001b[0m\n"
     ]
    },
    {
     "name": "stdout",
     "output_type": "stream",
     "text": [
      "🏃 View run RandomForest at: http://127.0.0.1:5000/#/experiments/594681456156421096/runs/357e513f5cb84c59b313148c75f074c0\n",
      "🧪 View experiment at: http://127.0.0.1:5000/#/experiments/594681456156421096\n"
     ]
    },
    {
     "name": "stderr",
     "output_type": "stream",
     "text": [
      "\u001b[31m2025/01/02 01:35:37 WARNING mlflow.models.model: Model logged without a signature and input example. Please set `input_example` parameter when logging the model to auto infer the model signature.\u001b[0m\n"
     ]
    },
    {
     "name": "stdout",
     "output_type": "stream",
     "text": [
      "🏃 View run SVR at: http://127.0.0.1:5000/#/experiments/594681456156421096/runs/f9aa6c6c0e884169988a5647513265e7\n",
      "🧪 View experiment at: http://127.0.0.1:5000/#/experiments/594681456156421096\n"
     ]
    }
   ],
   "source": [
    "mlflow.set_tracking_uri(\"http://127.0.0.1:5000/\")\n",
    "\n",
    "mlflow.set_experiment(\"Housing_Price_Predictions\")\n",
    "\n",
    "for model_name, model in models.items():\n",
    "    with mlflow.start_run(run_name=model_name):\n",
    "        mlflow.log_param(\"model_name\", model_name)\n",
    "        \n",
    "        if model_name == \"RandomForest\":\n",
    "            mlflow.log_param(\"n_estimators\", 100)\n",
    "        elif model_name == \"SVR\":\n",
    "            mlflow.log_param(\"kernel\", \"linear\")\n",
    "        \n",
    "        model.fit(X_train, y_train)\n",
    "        \n",
    "        y_pred = model.predict(X_test)\n",
    "        \n",
    "        mse = mean_squared_error(y_test, y_pred)\n",
    "        r2 = r2_score(y_test, y_pred)\n",
    "        \n",
    "        mlflow.log_metric(\"Mean_Squared_Error\", mse)\n",
    "        mlflow.log_metric(\"R_squared\", r2)\n",
    "        \n",
    "        mlflow.sklearn.log_model(model, model_name)\n"
   ]
  }
 ],
 "metadata": {
  "kernelspec": {
   "display_name": "Python 3",
   "language": "python",
   "name": "python3"
  },
  "language_info": {
   "codemirror_mode": {
    "name": "ipython",
    "version": 3
   },
   "file_extension": ".py",
   "mimetype": "text/x-python",
   "name": "python",
   "nbconvert_exporter": "python",
   "pygments_lexer": "ipython3",
   "version": "3.12.5"
  }
 },
 "nbformat": 4,
 "nbformat_minor": 2
}
